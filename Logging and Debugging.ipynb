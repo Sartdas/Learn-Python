{
 "cells": [
  {
   "cell_type": "code",
   "execution_count": 1,
   "metadata": {},
   "outputs": [],
   "source": [
    "import logging as lg"
   ]
  },
  {
   "cell_type": "code",
   "execution_count": 1,
   "metadata": {},
   "outputs": [],
   "source": [
    "import os"
   ]
  },
  {
   "cell_type": "code",
   "execution_count": 2,
   "metadata": {},
   "outputs": [
    {
     "data": {
      "text/plain": [
       "'C:\\\\Users\\\\sarth'"
      ]
     },
     "execution_count": 2,
     "metadata": {},
     "output_type": "execute_result"
    }
   ],
   "source": [
    "os.getcwd()"
   ]
  },
  {
   "cell_type": "code",
   "execution_count": 3,
   "metadata": {},
   "outputs": [],
   "source": [
    "os.chdir(os.getcwd()+\"\\\\\"+\"logging\")"
   ]
  },
  {
   "cell_type": "code",
   "execution_count": 7,
   "metadata": {},
   "outputs": [],
   "source": [
    "lg.basicConfig(filename=\"ABC.log\",level = lg.INFO, format ='%(asctime)s %(message)s %(name)s %(lineno)d')"
   ]
  },
  {
   "cell_type": "code",
   "execution_count": 8,
   "metadata": {},
   "outputs": [],
   "source": [
    "lg.info(\"This is info\")"
   ]
  },
  {
   "cell_type": "code",
   "execution_count": 9,
   "metadata": {},
   "outputs": [],
   "source": [
    "lg.warning(\"This is warning\")"
   ]
  },
  {
   "cell_type": "code",
   "execution_count": 10,
   "metadata": {},
   "outputs": [],
   "source": [
    "lg.error(\"This is error\")"
   ]
  },
  {
   "cell_type": "code",
   "execution_count": 10,
   "metadata": {},
   "outputs": [],
   "source": [
    "try:\n",
    "    \"ssdsd\" + 333\n",
    "except Exception as e:\n",
    "    lg.error(e)"
   ]
  },
  {
   "cell_type": "code",
   "execution_count": 15,
   "metadata": {},
   "outputs": [],
   "source": [
    "def test(a,b):\n",
    "    divide = a/b\n",
    "    return divide"
   ]
  },
  {
   "cell_type": "code",
   "execution_count": 16,
   "metadata": {},
   "outputs": [
    {
     "ename": "ZeroDivisionError",
     "evalue": "division by zero",
     "output_type": "error",
     "traceback": [
      "\u001b[1;31m---------------------------------------------------------------------------\u001b[0m",
      "\u001b[1;31mZeroDivisionError\u001b[0m                         Traceback (most recent call last)",
      "\u001b[1;32m<ipython-input-16-967fc90e6d05>\u001b[0m in \u001b[0;36m<module>\u001b[1;34m\u001b[0m\n\u001b[1;32m----> 1\u001b[1;33m \u001b[0mtest\u001b[0m\u001b[1;33m(\u001b[0m\u001b[1;36m4\u001b[0m\u001b[1;33m,\u001b[0m\u001b[1;36m0\u001b[0m\u001b[1;33m)\u001b[0m\u001b[1;33m\u001b[0m\u001b[1;33m\u001b[0m\u001b[0m\n\u001b[0m",
      "\u001b[1;32m<ipython-input-15-997ca0711240>\u001b[0m in \u001b[0;36mtest\u001b[1;34m(a, b)\u001b[0m\n\u001b[0;32m      1\u001b[0m \u001b[1;32mdef\u001b[0m \u001b[0mtest\u001b[0m\u001b[1;33m(\u001b[0m\u001b[0ma\u001b[0m\u001b[1;33m,\u001b[0m\u001b[0mb\u001b[0m\u001b[1;33m)\u001b[0m\u001b[1;33m:\u001b[0m\u001b[1;33m\u001b[0m\u001b[1;33m\u001b[0m\u001b[0m\n\u001b[1;32m----> 2\u001b[1;33m     \u001b[0mdivide\u001b[0m \u001b[1;33m=\u001b[0m \u001b[0ma\u001b[0m\u001b[1;33m/\u001b[0m\u001b[0mb\u001b[0m\u001b[1;33m\u001b[0m\u001b[1;33m\u001b[0m\u001b[0m\n\u001b[0m\u001b[0;32m      3\u001b[0m     \u001b[1;32mreturn\u001b[0m \u001b[0mdivide\u001b[0m\u001b[1;33m\u001b[0m\u001b[1;33m\u001b[0m\u001b[0m\n",
      "\u001b[1;31mZeroDivisionError\u001b[0m: division by zero"
     ]
    }
   ],
   "source": [
    "test(4,0)"
   ]
  },
  {
   "cell_type": "code",
   "execution_count": 20,
   "metadata": {},
   "outputs": [],
   "source": [
    "def test1(a,b):\n",
    "    try:\n",
    "        lg.info(str(a)+str(b))\n",
    "        divide = a/b\n",
    "        return divide\n",
    "    except Exception as e:\n",
    "        print(\"Error has occurred\")\n",
    "        lg.error(\"error\")\n",
    "        lg.exception(str(e))"
   ]
  },
  {
   "cell_type": "code",
   "execution_count": 21,
   "metadata": {},
   "outputs": [
    {
     "name": "stdout",
     "output_type": "stream",
     "text": [
      "Error has occurred\n"
     ]
    }
   ],
   "source": [
    "test1(4,0)"
   ]
  },
  {
   "cell_type": "code",
   "execution_count": 22,
   "metadata": {},
   "outputs": [
    {
     "data": {
      "text/plain": [
       "'C:\\\\Users\\\\sarth\\\\logging'"
      ]
     },
     "execution_count": 22,
     "metadata": {},
     "output_type": "execute_result"
    }
   ],
   "source": [
    "pwd()"
   ]
  },
  {
   "cell_type": "code",
   "execution_count": 7,
   "metadata": {},
   "outputs": [],
   "source": [
    "import logging as lg\n",
    "lg.basicConfig(filename=\"test1.log\",level=lg.INFO,format=(\"%(asctime)s\"))\n",
    "def test(a,b):\n",
    "    lg.info(\"this is start of function\")\n",
    "    lg.info(str(a)+\" \"+str(b))\n",
    "    return a+b"
   ]
  },
  {
   "cell_type": "code",
   "execution_count": 8,
   "metadata": {},
   "outputs": [
    {
     "data": {
      "text/plain": [
       "10"
      ]
     },
     "execution_count": 8,
     "metadata": {},
     "output_type": "execute_result"
    }
   ],
   "source": [
    "test(4,6)"
   ]
  },
  {
   "cell_type": "code",
   "execution_count": null,
   "metadata": {},
   "outputs": [],
   "source": [
    "lg.shutdown()# logging function shuts down "
   ]
  },
  {
   "cell_type": "code",
   "execution_count": 7,
   "metadata": {},
   "outputs": [],
   "source": [
    "import logging as lg\n",
    "#lg.basicConfig(filename=\"test2.log\",level=lg.INFO,format=\"%(asctime)s %(message)s\")\n",
    "lg.basicConfig(filename=\"test2.log\",level=lg.INFO)\n",
    "def test1(*args):\n",
    "    sum_no = 0\n",
    "    user_input=[]\n",
    "    for i in args:\n",
    "        sum_no = sum_no + i\n",
    "        user_input.append(i)\n",
    "    lg.info(user_input)\n",
    "   \n",
    "\n",
    "    log_file = open(\"test2.log\",\"r\")\n",
    "    print(log_file.read())\n",
    "    log_file.close()\n",
    "    return sum_no"
   ]
  },
  {
   "cell_type": "code",
   "execution_count": 8,
   "metadata": {},
   "outputs": [
    {
     "ename": "TypeError",
     "evalue": "can only concatenate str (not \"list\") to str",
     "output_type": "error",
     "traceback": [
      "\u001b[1;31m---------------------------------------------------------------------------\u001b[0m",
      "\u001b[1;31mTypeError\u001b[0m                                 Traceback (most recent call last)",
      "\u001b[1;32m<ipython-input-8-c0523e200e58>\u001b[0m in \u001b[0;36m<module>\u001b[1;34m\u001b[0m\n\u001b[1;32m----> 1\u001b[1;33m \u001b[0mtest1\u001b[0m\u001b[1;33m(\u001b[0m\u001b[1;36m4\u001b[0m\u001b[1;33m,\u001b[0m\u001b[1;36m5\u001b[0m\u001b[1;33m,\u001b[0m\u001b[1;36m6\u001b[0m\u001b[1;33m,\u001b[0m\u001b[1;36m7\u001b[0m\u001b[1;33m)\u001b[0m\u001b[1;33m\u001b[0m\u001b[1;33m\u001b[0m\u001b[0m\n\u001b[0m",
      "\u001b[1;32m<ipython-input-7-16aa740708aa>\u001b[0m in \u001b[0;36mtest1\u001b[1;34m(*args)\u001b[0m\n\u001b[0;32m      8\u001b[0m         \u001b[0msum_no\u001b[0m \u001b[1;33m=\u001b[0m \u001b[0msum_no\u001b[0m \u001b[1;33m+\u001b[0m \u001b[0mi\u001b[0m\u001b[1;33m\u001b[0m\u001b[1;33m\u001b[0m\u001b[0m\n\u001b[0;32m      9\u001b[0m         \u001b[0muser_input\u001b[0m\u001b[1;33m.\u001b[0m\u001b[0mappend\u001b[0m\u001b[1;33m(\u001b[0m\u001b[0mi\u001b[0m\u001b[1;33m)\u001b[0m\u001b[1;33m\u001b[0m\u001b[1;33m\u001b[0m\u001b[0m\n\u001b[1;32m---> 10\u001b[1;33m     \u001b[0mlg\u001b[0m\u001b[1;33m.\u001b[0m\u001b[0minfo\u001b[0m\u001b[1;33m(\u001b[0m\u001b[1;34m\" User has entered the values:\"\u001b[0m \u001b[1;33m+\u001b[0m \u001b[0muser_input\u001b[0m\u001b[1;33m)\u001b[0m\u001b[1;33m\u001b[0m\u001b[1;33m\u001b[0m\u001b[0m\n\u001b[0m\u001b[0;32m     11\u001b[0m \u001b[1;33m\u001b[0m\u001b[0m\n\u001b[0;32m     12\u001b[0m \u001b[1;33m\u001b[0m\u001b[0m\n",
      "\u001b[1;31mTypeError\u001b[0m: can only concatenate str (not \"list\") to str"
     ]
    }
   ],
   "source": [
    "test1(4,5,6,7)"
   ]
  },
  {
   "cell_type": "code",
   "execution_count": 10,
   "metadata": {},
   "outputs": [],
   "source": [
    "lg.info(\"This is an info\")"
   ]
  },
  {
   "cell_type": "code",
   "execution_count": 11,
   "metadata": {},
   "outputs": [],
   "source": [
    "logger =lg.getLogger()"
   ]
  },
  {
   "cell_type": "code",
   "execution_count": 12,
   "metadata": {},
   "outputs": [
    {
     "data": {
      "text/plain": [
       "<RootLogger root (INFO)>"
      ]
     },
     "execution_count": 12,
     "metadata": {},
     "output_type": "execute_result"
    }
   ],
   "source": [
    "logger"
   ]
  },
  {
   "cell_type": "code",
   "execution_count": 5,
   "metadata": {},
   "outputs": [],
   "source": [
    "import logging as lg"
   ]
  },
  {
   "cell_type": "code",
   "execution_count": 6,
   "metadata": {},
   "outputs": [],
   "source": [
    "lg.basicConfig(filename=\"test3.log\",level=lg.DEBUG,format=\"%(levelname)s %(asctime)s %(message)s\")"
   ]
  },
  {
   "cell_type": "code",
   "execution_count": 8,
   "metadata": {},
   "outputs": [],
   "source": [
    "console_log = lg.StreamHandler()\n",
    "console_log.setLevel(lg.INFO)"
   ]
  },
  {
   "cell_type": "code",
   "execution_count": 9,
   "metadata": {},
   "outputs": [],
   "source": [
    "formatter = \"%(levelname)s %(asctime)s %(message)s %(name)s\""
   ]
  },
  {
   "cell_type": "code",
   "execution_count": 10,
   "metadata": {},
   "outputs": [],
   "source": [
    "console_log.setFormatter(formatter)"
   ]
  },
  {
   "cell_type": "code",
   "execution_count": 6,
   "metadata": {},
   "outputs": [
    {
     "name": "stdout",
     "output_type": "stream",
     "text": [
      "<Logger Employee (INFO)>\n"
     ]
    }
   ],
   "source": [
    "import logging as lg\n",
    "\n",
    "from Employee import Employee # importing Employee module from the the path C:\\\\Users\\\\sarth\\Test1\\Test by appending \n",
    "                              # sys.path.append('C:\\\\Users\\\\sarth\\Test1\\Test') temporarily\n",
    "    \n",
    "#Default LEVELs in Python\n",
    "#NOTSET -->  0\n",
    "#DEBUG  --> 10 DETAILED INFORMATION ,TYPICALLY OF INTEREST ONLY WHEN DIAGNOSING PROBLEMS\n",
    "#INFO   --> 20 CONFIRAMTIONS THAT THINGS ARE WORKING AS EXPECTED\n",
    "#WARNING--> 30 AN INDICATION THAT SOMETHING UNEXPECTED HAPPENED, OR INDICATIVE OF SOME PROBLEM IN THE NEAR FUTURE(E.G.;DISK\n",
    "#SPACE LOW'). THE SOFTWARE IS STILL WORKING AS EXPECTED\n",
    "#ERROR  --> 40 DUE TO A MORE SERIOUS PROBLEM, THE SOFTWARE HAS NOT BEEN ABLE TO PERFORM SOME FUNCTION.\n",
    "#CRITICAL-> 50 A SERIOUS ERROR, INDICATING THAT THE PROGRAM ITSELF MAY BE UNABLE TO CONTINUE RUNNING.\n",
    "\n",
    "#lg.basicConfig()--> by default the logging level is set to warning and above\n",
    "logger = lg.getLogger(__name__)\n",
    "logger.setLevel(lg.DEBUG)\n",
    "\n",
    "formatter = lg.Formatter('%(asctime)s:%(levelname)s:%(message)s')\n",
    "\n",
    "file_handler = lg.FileHandler('Mylog.log')\n",
    "file_handler.setFormatter(formatter)\n",
    "\n",
    "logger.addHandler(file_handler)\n",
    "\n",
    "\n",
    "#lg.basicConfig(filename=\"Mylog.log\",level=lg.DEBUG,format=\"%(asctime)s:%(levelname)s:%(message)s\") # level can be changed by setting the level to the desired level. level are set in CAPS\n",
    "\n",
    "def add(x,y):\n",
    "    \"\"\"Add Function\"\"\"\n",
    "    return x+y\n",
    "\n",
    "\n",
    "def subtract(x,y):\n",
    "    \"\"\"Subtract Function\"\"\"\n",
    "    return x-y\n",
    "\n",
    "def multiply(x,y):\n",
    "    \"\"\"Multiply Function\"\"\"\n",
    "    return x*y\n",
    "\n",
    "def divide(x,y):\n",
    "    \"\"\"Divide Function\"\"\"\n",
    "    return x/y\n",
    "\n",
    "\n",
    "num_1 =20\n",
    "num_2=10\n",
    "\n",
    "add_result =add(num_1,num_2)\n",
    "#print('Add:{} + {} = {}'.format(num_1,num_2,add_result))\n",
    "logger.debug('Add:{} + {} = {}'.format(num_1,num_2,add_result))\n",
    "\n",
    "sub_result =subtract(num_1,num_2)\n",
    "#print('Sub:{} + {} = {}'.format(num_1,num_2,sub_result))\n",
    "logger.debug('Sub:{} + {} = {}'.format(num_1,num_2,sub_result))\n",
    "\n",
    "mul_result =multiply(num_1,num_2)\n",
    "#print('Mul:{} + {} = {}'.format(num_1,num_2,mul_result))\n",
    "logger.debug('Mul:{} + {} = {}'.format(num_1,num_2,mul_result))\n",
    "\n",
    "div_result =divide(num_1,num_2)\n",
    "#print('Div:{} + {} = {}'.format(num_1,num_2,div_result))\n",
    "logger.debug('Div:{} + {} = {}'.format(num_1,num_2,div_result))"
   ]
  },
  {
   "cell_type": "code",
   "execution_count": 6,
   "metadata": {},
   "outputs": [],
   "source": [
    "import logging as lg\n",
    "import os\n",
    "os.chdir(os.getcwd()+\"\\\\\"+\"logging\")\n",
    "lg.basicConfig(filename=\"employee.log\",level=lg.INFO,format=\"%(asctime)s:%(levelname)s:%(message)s\")\n",
    "class Employee:\n",
    "    \"\"\"A sample Employee class\"\"\"\n",
    "    \n",
    "    def __init__(self,first,last):\n",
    "        self.first = first\n",
    "        self.last = last\n",
    "        \n",
    "#        print(\"Created Employee: {} - {}\".format(self.fullname,self.email))\n",
    "        lg.info(\"Created Employee: {} - {}\".format(self.fullname,self.email))\n",
    "    \n",
    "    @property\n",
    "    def email(self):\n",
    "        return \"{}.{}@email.com\".format(self.first,self.last)\n",
    "    \n",
    "    @property\n",
    "    def fullname(self):\n",
    "        return \"{} {}\".format(self.first,self.last)\n",
    "    \n",
    "\n",
    "emp_1 = Employee('Sarthak', 'Das')\n",
    "emp_2 = Employee('Binita', 'Dash')\n",
    "emp_3 = Employee('Saswat', 'Das')"
   ]
  },
  {
   "cell_type": "code",
   "execution_count": 2,
   "metadata": {},
   "outputs": [
    {
     "ename": "NameError",
     "evalue": "name 'os' is not defined",
     "output_type": "error",
     "traceback": [
      "\u001b[1;31m---------------------------------------------------------------------------\u001b[0m",
      "\u001b[1;31mNameError\u001b[0m                                 Traceback (most recent call last)",
      "\u001b[1;32m<ipython-input-2-a78b1fb2bab9>\u001b[0m in \u001b[0;36m<module>\u001b[1;34m\u001b[0m\n\u001b[1;32m----> 1\u001b[1;33m \u001b[0mos\u001b[0m\u001b[1;33m.\u001b[0m\u001b[0mgetcwd\u001b[0m\u001b[1;33m(\u001b[0m\u001b[1;33m)\u001b[0m\u001b[1;33m\u001b[0m\u001b[1;33m\u001b[0m\u001b[0m\n\u001b[0m",
      "\u001b[1;31mNameError\u001b[0m: name 'os' is not defined"
     ]
    }
   ],
   "source": [
    "os.getcwd()"
   ]
  },
  {
   "cell_type": "code",
   "execution_count": 3,
   "metadata": {},
   "outputs": [],
   "source": [
    "import sys"
   ]
  },
  {
   "cell_type": "code",
   "execution_count": 4,
   "metadata": {},
   "outputs": [
    {
     "name": "stdout",
     "output_type": "stream",
     "text": [
      "['C:\\\\Users\\\\sarth', 'C:\\\\Users\\\\sarth\\\\anaconda3\\\\python38.zip', 'C:\\\\Users\\\\sarth\\\\anaconda3\\\\DLLs', 'C:\\\\Users\\\\sarth\\\\anaconda3\\\\lib', 'C:\\\\Users\\\\sarth\\\\anaconda3', '', 'C:\\\\Users\\\\sarth\\\\anaconda3\\\\lib\\\\site-packages', 'C:\\\\Users\\\\sarth\\\\anaconda3\\\\lib\\\\site-packages\\\\win32', 'C:\\\\Users\\\\sarth\\\\anaconda3\\\\lib\\\\site-packages\\\\win32\\\\lib', 'C:\\\\Users\\\\sarth\\\\anaconda3\\\\lib\\\\site-packages\\\\Pythonwin', 'C:\\\\Users\\\\sarth\\\\anaconda3\\\\lib\\\\site-packages\\\\IPython\\\\extensions', 'C:\\\\Users\\\\sarth\\\\.ipython']\n"
     ]
    }
   ],
   "source": [
    "print(sys.path)"
   ]
  },
  {
   "cell_type": "code",
   "execution_count": 5,
   "metadata": {},
   "outputs": [],
   "source": [
    "sys.path.append('C:/Users/sarth/Test1/Test')"
   ]
  },
  {
   "cell_type": "code",
   "execution_count": 3,
   "metadata": {},
   "outputs": [
    {
     "data": {
      "text/plain": [
       "'C:\\\\Users\\\\sarth'"
      ]
     },
     "execution_count": 3,
     "metadata": {},
     "output_type": "execute_result"
    }
   ],
   "source": [
    "pwd()"
   ]
  },
  {
   "cell_type": "code",
   "execution_count": null,
   "metadata": {},
   "outputs": [],
   "source": []
  }
 ],
 "metadata": {
  "kernelspec": {
   "display_name": "Python 3",
   "language": "python",
   "name": "python3"
  },
  "language_info": {
   "codemirror_mode": {
    "name": "ipython",
    "version": 3
   },
   "file_extension": ".py",
   "mimetype": "text/x-python",
   "name": "python",
   "nbconvert_exporter": "python",
   "pygments_lexer": "ipython3",
   "version": "3.8.3"
  }
 },
 "nbformat": 4,
 "nbformat_minor": 4
}
