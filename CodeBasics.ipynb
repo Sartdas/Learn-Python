{
 "cells": [
  {
   "cell_type": "markdown",
   "metadata": {},
   "source": [
    "# 1. Exercise: Python Variables"
   ]
  },
  {
   "cell_type": "markdown",
   "metadata": {},
   "source": [
    "#### 1. Create a variable called break and assign it a value 5. See what happens and find out the reason behind the behavior that you see."
   ]
  },
  {
   "cell_type": "code",
   "execution_count": 2,
   "metadata": {},
   "outputs": [
    {
     "ename": "SyntaxError",
     "evalue": "invalid syntax (<ipython-input-2-00bd2e73219f>, line 1)",
     "output_type": "error",
     "traceback": [
      "\u001b[1;36m  File \u001b[1;32m\"<ipython-input-2-00bd2e73219f>\"\u001b[1;36m, line \u001b[1;32m1\u001b[0m\n\u001b[1;33m    break = 5\u001b[0m\n\u001b[1;37m          ^\u001b[0m\n\u001b[1;31mSyntaxError\u001b[0m\u001b[1;31m:\u001b[0m invalid syntax\n"
     ]
    }
   ],
   "source": [
    "break = 5 # break is a keyword in python hence should not be used as a variable name same applies to others as well"
   ]
  },
  {
   "cell_type": "markdown",
   "metadata": {},
   "source": [
    "#### 2. Create two variables. One to store your birth year and another one to store current year. Now calculate your age using these two variables"
   ]
  },
  {
   "cell_type": "code",
   "execution_count": 11,
   "metadata": {},
   "outputs": [
    {
     "name": "stdout",
     "output_type": "stream",
     "text": [
      "age is : 35\n"
     ]
    }
   ],
   "source": [
    "import datetime\n",
    "birth_year = 1987\n",
    "current_year = datetime.datetime.now().year # to fetch the current year\n",
    "\n",
    "age = current_year - birth_year + 1\n",
    "print(\"age is :\",age)"
   ]
  },
  {
   "cell_type": "markdown",
   "metadata": {},
   "source": [
    "#### 3.Store your first, middle and last name in three different variables and then print your full name using these variables"
   ]
  },
  {
   "cell_type": "code",
   "execution_count": 13,
   "metadata": {},
   "outputs": [
    {
     "name": "stdout",
     "output_type": "stream",
     "text": [
      "Enter your first name:John\n",
      "Enter your middle name:\n",
      "Enter your last name:Wick\n",
      "Full name is: John  Wick\n"
     ]
    }
   ],
   "source": [
    "first_name = input(\"Enter your first name:\")\n",
    "middle_name = input(\"Enter your middle name:\")\n",
    "last_name = input(\"Enter your last name:\")\n",
    "\n",
    "full_name = first_name + ' ' + middle_name + ' ' + last_name \n",
    "\n",
    "print(\"Full name is:\",full_name)"
   ]
  },
  {
   "cell_type": "markdown",
   "metadata": {},
   "source": [
    "#### 4. Answer which of these are invalid variable names: _nation 1record record1 record_one record-one record^one continue"
   ]
  },
  {
   "cell_type": "markdown",
   "metadata": {},
   "source": [
    "_nation --> valid\n",
    "1record --> invalid\n",
    "record1 --> valid\n",
    "record_one --> valid\n",
    "record-one --> invalid\n",
    "record^one --> invalid\n",
    "continue --> invalid"
   ]
  },
  {
   "cell_type": "markdown",
   "metadata": {},
   "source": [
    "# 2. Exercise: Numbers in python"
   ]
  },
  {
   "cell_type": "markdown",
   "metadata": {},
   "source": [
    "#### 1. You have a football field that is 92 meter long and 48.8 meter wide. Find out total area using python and print it."
   ]
  },
  {
   "cell_type": "code",
   "execution_count": 16,
   "metadata": {},
   "outputs": [
    {
     "name": "stdout",
     "output_type": "stream",
     "text": [
      "Area of the football field is : 4489.6\n"
     ]
    }
   ],
   "source": [
    "length = 92\n",
    "width = 48.8\n",
    "\n",
    "area = length * width\n",
    "\n",
    "print(\"Area of the football field is :\", round(area,2))"
   ]
  },
  {
   "cell_type": "markdown",
   "metadata": {},
   "source": [
    "#### 2. you bought 9 packets of potato chips from a store. Each packet costs 1.49 dollar and you gave shopkeeper 20 dollar. Find out using python, how many dollars is the shopkeeper going to give you back?"
   ]
  },
  {
   "cell_type": "code",
   "execution_count": 17,
   "metadata": {},
   "outputs": [
    {
     "name": "stdout",
     "output_type": "stream",
     "text": [
      "Change to be returned 6.59\n"
     ]
    }
   ],
   "source": [
    "nbr_of_packs = 9\n",
    "price_per_pack = 1.49\n",
    "money_paid =20\n",
    "change_to_return = money_paid -(nbr_of_packs * price_per_pack)\n",
    "print(\"Change to be returned\", change_to_return)"
   ]
  },
  {
   "cell_type": "markdown",
   "metadata": {},
   "source": [
    "#### 3. you want to replace tiles in your bathroom which is exactly square and 5.5 feet is its length. If tiles cost 500 rs per square feet, how much will be the total cost to replace all tiles. Calculate and print the cost using python (Hint: Use power operator ** to find area of a square)"
   ]
  },
  {
   "cell_type": "code",
   "execution_count": 18,
   "metadata": {},
   "outputs": [
    {
     "name": "stdout",
     "output_type": "stream",
     "text": [
      "Total cost is: 15125.0\n"
     ]
    }
   ],
   "source": [
    "length_of_sqr = 5.5\n",
    "price_per_sqr_ft = 500\n",
    "\n",
    "area = length_of_sqr ** 2\n",
    "\n",
    "total_price = price_per_sqr_ft * area\n",
    "print(\"Total cost is:\",total_price)"
   ]
  },
  {
   "cell_type": "markdown",
   "metadata": {},
   "source": [
    "#### 4. Print binary representation of number 17"
   ]
  },
  {
   "cell_type": "code",
   "execution_count": 20,
   "metadata": {},
   "outputs": [
    {
     "name": "stdout",
     "output_type": "stream",
     "text": [
      "The Binary representation of 17 is: 0b10001\n",
      "Another way of representing binary of 17 is 10001\n"
     ]
    }
   ],
   "source": [
    "print(\"The Binary representation of 17 is:\", bin(17)) \n",
    "print(\"Another way of representing binary of 17 is\",format(17,'b'))"
   ]
  },
  {
   "cell_type": "markdown",
   "metadata": {},
   "source": [
    "# 3. Exercise: String in Python"
   ]
  },
  {
   "cell_type": "markdown",
   "metadata": {},
   "source": [
    "#### 1. Create 3 variables to store street, city and country, now create address variable to store entire address. Use two ways of creating this variable, one using + operator and the other using f-string. Now Print the address in such a way that the street, city and country prints in a separate line"
   ]
  },
  {
   "cell_type": "code",
   "execution_count": 40,
   "metadata": {},
   "outputs": [
    {
     "name": "stdout",
     "output_type": "stream",
     "text": [
      "kings road\n",
      "reading\n",
      "United Kingdom\n",
      "kings road\n",
      "reading \n",
      "United Kingdom\n"
     ]
    }
   ],
   "source": [
    "street = \"kings road\"\n",
    "city = \"reading\"\n",
    "country = \"United Kingdom\"\n",
    "\n",
    "entire_address = street + \"\\n\" + city + \"\\n\" + country\n",
    "print(entire_address,end=\"\\n\")\n",
    "\n",
    "print(f\"{street}\\n{city} \\n{country}\")"
   ]
  },
  {
   "cell_type": "markdown",
   "metadata": {},
   "source": [
    "#### 2. Create a variable to store the string \"Earth revolves around the sun\"\n",
    "#### i.  Print \"revolves\" using slice operator\n",
    "#### ii. Print \"sun\" using negative index"
   ]
  },
  {
   "cell_type": "code",
   "execution_count": 25,
   "metadata": {},
   "outputs": [
    {
     "name": "stdout",
     "output_type": "stream",
     "text": [
      "revolves\n",
      "sun\n"
     ]
    }
   ],
   "source": [
    "var = \"Earth revolves around the sun\"\n",
    "\n",
    "print (var[6:14])\n",
    "print (var[-3:])"
   ]
  },
  {
   "cell_type": "markdown",
   "metadata": {},
   "source": [
    "#### 3. Create two variables to store how many fruits and vegetables you eat in a day. Now Print \"I eat x veggies and y fruits daily\" where x and y presents vegetables and fruits that you eat everyday. Use python f string for this."
   ]
  },
  {
   "cell_type": "code",
   "execution_count": 27,
   "metadata": {},
   "outputs": [
    {
     "data": {
      "text/plain": [
       "'I eat 4 veggies and 6 fruits daily'"
      ]
     },
     "execution_count": 27,
     "metadata": {},
     "output_type": "execute_result"
    }
   ],
   "source": [
    "fruits = 4\n",
    "vegetables = 6\n",
    "\n",
    "f\"I eat {fruits} veggies and {vegetables} fruits daily\""
   ]
  },
  {
   "cell_type": "markdown",
   "metadata": {},
   "source": [
    "#### 4. I have a string variable called s='maine 200 banana khaye'. This of course is a wrong statement, the correct statement is 'maine 10 samosa khaye'. Replace incorrect words in original strong with new ones and print the new string. Also try to do this in one line."
   ]
  },
  {
   "cell_type": "code",
   "execution_count": 41,
   "metadata": {},
   "outputs": [
    {
     "data": {
      "text/plain": [
       "'maine 10 samosa khaye'"
      ]
     },
     "execution_count": 41,
     "metadata": {},
     "output_type": "execute_result"
    }
   ],
   "source": [
    "s='maine 200 banana khaye'\n",
    "s.replace('200 banana','10 samosa')\n",
    "### can also be done like below\n",
    "\n",
    "s.replace('200','10').replace('banana','samosa')"
   ]
  },
  {
   "cell_type": "markdown",
   "metadata": {},
   "source": [
    "#### 1. Let us say your expense for every month are listed below,\n",
    "    January - 2200 \n",
    "    February - 2350\n",
    "    March - 2600\n",
    "    April - 2130\n",
    "    May - 2190\n",
    "Create a list to store these monthly expenses and using that find out,\n",
    "\n",
    "1. In Feb, how many dollars you spent extra compare to January?\n",
    "2. Find out your total expense in first quarter (first three months) of the year.\n",
    "3. Find out if you spent exactly 2000 dollars in any month\n",
    "4. June month just finished and your expense is 1980 dollar. Add this item to our monthly expense list\n",
    "5. You returned an item that you bought in a month of April and\n",
    "got a refund of 200$. Make a correction to your monthly expense list\n",
    "based on this"
   ]
  },
  {
   "cell_type": "code",
   "execution_count": 50,
   "metadata": {},
   "outputs": [
    {
     "name": "stdout",
     "output_type": "stream",
     "text": [
      "150\n",
      "Total expense in the first quarter is: 7150\n",
      "False\n",
      "[2200, 2350, 2600, 2130, 2190, 1980]\n",
      "[2200, 2350, 2600, 1930, 2190, 1980]\n"
     ]
    }
   ],
   "source": [
    "expense_list = [2200,2350,2600,2130,2190]\n",
    "\n",
    "# In Feb, how many dollars you spent extra compare to January?\n",
    "\n",
    "print(expense_list[1]-expense_list[0])\n",
    "\n",
    "# Find out your total expense in first quarter (first three months) of the year.\n",
    "\n",
    "Total_exp = sum(expense_list[0:3])\n",
    "\n",
    "print(\"Total expense in the first quarter is:\",Total_exp)\n",
    "\n",
    "# Find out if you spent exactly 2000 dollars in any month\n",
    "\n",
    "print(2000 in expense_list)\n",
    "\n",
    "# June month just finished and your expense is 1980 dollar. Add this item to our monthly expense list\n",
    "\n",
    "expense_list.append(1980)\n",
    "print(expense_list)\n",
    "\n",
    "# You returned an item that you bought in a month of April and got a refund of 200$. \n",
    "# Make a correction to your monthly expense list based on this\n",
    "\n",
    "expense_list[3] = expense_list[3] - 200\n",
    "print(expense_list)"
   ]
  },
  {
   "cell_type": "markdown",
   "metadata": {},
   "source": [
    "#### 2. You have a list of your favourite marvel super heros.\n",
    "    heros=['spider man','thor','hulk','iron man','captain america']\n",
    "\n",
    "using this find out\n",
    "\n",
    "1. Length of the list\n",
    "2. Add 'black panther' at the end of this list\n",
    "3. You realize that you need to add 'black panther' after 'hulk',\n",
    "   so remove it from the list first and then add it after 'hulk'\n",
    "4. Now you don't like thor and hulk because they get angry easily :)\n",
    "   So you want to remove thor and hulk from list and replace them with doctor strange (because he is cool).\n",
    "   Do that with one line of code.\n",
    "5. Sort the heros list in alphabetical order (Hint. Use dir() functions to list down all functions available in list)"
   ]
  },
  {
   "cell_type": "code",
   "execution_count": 63,
   "metadata": {},
   "outputs": [
    {
     "name": "stdout",
     "output_type": "stream",
     "text": [
      "5\n",
      "['spider man', 'thor', 'hulk', 'iron man', 'captain america', 'black panther']\n",
      "['spider man', 'thor', 'hulk', 'black panther', 'iron man', 'captain america']\n",
      "['spider man', 'doctor strange', 'black panther', 'iron man', 'captain america']\n"
     ]
    }
   ],
   "source": [
    "heros=['spider man','thor','hulk','iron man','captain america']\n",
    "# Length of the list\n",
    "print(len(heros))\n",
    "\n",
    "# Add 'black panther' at the end of this list\n",
    "heros.append('black panther')\n",
    "print(heros)\n",
    "\n",
    "# You realize that you need to add 'black panther' after 'hulk', \n",
    "# so remove it from the list first and then add it after 'hulk'\n",
    "heros.pop()\n",
    "heros.insert(3,'black panther')\n",
    "print(heros)\n",
    "\n",
    "# Now you don't like thor and hulk because they get angry easily :) So you want to remove thor and hulk from list and \n",
    "# replace them with doctor strange (because he is cool). Do that with one line of code.\n",
    "\n",
    "heros[1:3] = ['doctor strange']\n",
    "print(heros)"
   ]
  },
  {
   "cell_type": "markdown",
   "metadata": {},
   "source": [
    "# 4. Exercise: Python If Condition"
   ]
  },
  {
   "cell_type": "markdown",
   "metadata": {},
   "source": [
    "#### 1. sing following list of cities per country,\n",
    "    india = [\"mumbai\", \"banglore\", \"chennai\", \"delhi\"]\n",
    "    pakistan = [\"lahore\",\"karachi\",\"islamabad\"]\n",
    "    bangladesh = [\"dhaka\", \"khulna\", \"rangpur\"]\n",
    "#### i. Write a program that asks user to enter a city name and it should tell which country the city belongs to"
   ]
  },
  {
   "cell_type": "code",
   "execution_count": 69,
   "metadata": {},
   "outputs": [
    {
     "name": "stdout",
     "output_type": "stream",
     "text": [
      "Enter a city name: karachi\n",
      "Paskistani City\n"
     ]
    }
   ],
   "source": [
    "india = [\"mumbai\", \"banglore\", \"chennai\", \"delhi\"]\n",
    "pakistan = [\"lahore\",\"karachi\",\"islamabad\"]\n",
    "bangladesh = [\"dhaka\", \"khulna\", \"rangpur\"]\n",
    "\n",
    "city_name=input(\"Enter a city name: \")\n",
    "\n",
    "if city_name  in india:\n",
    "    print(\"Indian City\")\n",
    "elif city_name in pakistan:\n",
    "    print (\"Paskistani City\")\n",
    "elif city_name in bangladesh:\n",
    "    print(\"Bangladeshi City\")\n",
    "else:\n",
    "    print(\"City name entered could not be found\", city_name)"
   ]
  },
  {
   "cell_type": "markdown",
   "metadata": {},
   "source": [
    "#### ii. Write a program that asks user to enter two cities and it tells you if they both are in same country or not. For example if I enter mumbai and chennai, it will print \"Both cities are in India\" but if I enter mumbai and dhaka it should print \"They don't belong to same country\""
   ]
  },
  {
   "cell_type": "code",
   "execution_count": 71,
   "metadata": {},
   "outputs": [
    {
     "name": "stdout",
     "output_type": "stream",
     "text": [
      "Enter the 1st City name: dekhi#\n",
      "Enter the 2nd City name: dhaka\n",
      "They don't belong to same country\n"
     ]
    }
   ],
   "source": [
    "city_name1 = input(\"Enter the 1st City name: \")\n",
    "city_name2 = input(\"Enter the 2nd City name: \")\n",
    "\n",
    "if city_name1 in india and city_name2 in india:\n",
    "    print(\"both cities are in India\")\n",
    "elif city_name1 in pakistan and city_name2 in pakistan:\n",
    "    print(\"both cities are in Pakistan\")\n",
    "elif city_name1 in bangladesh and city_name2 in bangladesh:\n",
    "    print(\"both cities are in Bangladesh\")\n",
    "else:\n",
    "    print(\"They don't belong to same country\")"
   ]
  },
  {
   "cell_type": "markdown",
   "metadata": {},
   "source": [
    "#### 2. Write a python program that can tell you if your sugar is normal or not. Normal fasting level sugar range is 80 to 100.\n",
    "\n",
    "    i.  Ask user to enter his fasting sugar level\n",
    "    ii. If it is below 80 to 100 range then print that sugar is low\n",
    "    iii.If it is above 100 then print that it is high otherwise print that it is normal"
   ]
  },
  {
   "cell_type": "code",
   "execution_count": 74,
   "metadata": {},
   "outputs": [
    {
     "name": "stdout",
     "output_type": "stream",
     "text": [
      "Enter the fasting sugar level: 101\n",
      "sugar level is high\n"
     ]
    }
   ],
   "source": [
    "user_input=int(input(\"Enter the fasting sugar level: \"))\n",
    "\n",
    "if user_input < 80:\n",
    "    print (\"sugar level is low\")\n",
    "elif user_input > 100:\n",
    "    print (\"sugar level is high\")\n",
    "else:\n",
    "    print(\"sugar level is normal\")\n"
   ]
  },
  {
   "cell_type": "markdown",
   "metadata": {},
   "source": [
    "# 5. Exercise: Python for loop"
   ]
  },
  {
   "cell_type": "markdown",
   "metadata": {},
   "source": [
    "#### 1. After flipping a coin 10 times you got this result,\n",
    "    result = [\"heads\",\"tails\",\"tails\",\"heads\",\"tails\",\"heads\",\"heads\",\"tails\",\"tails\",\"tails\"]\n",
    "Using for loop figure out how many times you got heads"
   ]
  },
  {
   "cell_type": "code",
   "execution_count": 75,
   "metadata": {},
   "outputs": [
    {
     "name": "stdout",
     "output_type": "stream",
     "text": [
      "Total number of heads are:  4\n"
     ]
    }
   ],
   "source": [
    "result = [\"heads\",\"tails\",\"tails\",\"heads\",\"tails\",\"heads\",\"heads\",\"tails\",\"tails\",\"tails\"]\n",
    "\n",
    "count = 0\n",
    "for i in result:\n",
    "    if i == \"heads\":\n",
    "        count += 1\n",
    "\n",
    "print(\"Total number of heads are: \", count)"
   ]
  },
  {
   "cell_type": "markdown",
   "metadata": {},
   "source": [
    "#### 2. Print square of all numbers between 1 to 10 except even numbers"
   ]
  },
  {
   "cell_type": "code",
   "execution_count": 76,
   "metadata": {},
   "outputs": [
    {
     "name": "stdout",
     "output_type": "stream",
     "text": [
      "Square of the odd numbers are: 1\n",
      "Square of the odd numbers are: 9\n",
      "Square of the odd numbers are: 25\n",
      "Square of the odd numbers are: 49\n",
      "Square of the odd numbers are: 81\n"
     ]
    }
   ],
   "source": [
    "for i in range(1,11):\n",
    "    if i%2 == 0:\n",
    "        continue\n",
    "    else:\n",
    "        print(\"Square of the odd numbers are:\",i**2)"
   ]
  },
  {
   "cell_type": "markdown",
   "metadata": {},
   "source": [
    "#### 3. Your monthly expense list (from Jan to May) looks like this,\n",
    "    expense_list = [2340, 2500, 2100, 3100, 2980]\n",
    "\n",
    "Write a program that asks you to enter an expense amount and program should tell you in which month that expense occurred. If expense is not found then it should print that as well."
   ]
  },
  {
   "cell_type": "code",
   "execution_count": 79,
   "metadata": {},
   "outputs": [
    {
     "name": "stdout",
     "output_type": "stream",
     "text": [
      "Enter the expense: 3200\n",
      "No such expense found\n"
     ]
    }
   ],
   "source": [
    "expense_list = [2340, 2500, 2100, 3100, 2980]\n",
    "\n",
    "user_input = int(input(\"Enter the expense: \"))\n",
    "flag =0\n",
    "for i in range(len(expense_list)):\n",
    "    if user_input == expense_list[i]:\n",
    "        print(\"Expense amount is {} and month is {}\".format(user_input,i+1))\n",
    "        flag =1\n",
    "\n",
    "if flag == 0:\n",
    "    print(\"No such expense found\")"
   ]
  },
  {
   "cell_type": "markdown",
   "metadata": {},
   "source": [
    "#### 4. Lets say you are running a 5 km race. Write a program that,\n",
    "\n",
    "        i.Upon completing each 1 km asks you \"are you tired?\"\n",
    "        ii.If you reply \"yes\" then it should break and print \"you didn't finish the race\"\n",
    "        iii.If you reply \"no\" then it should continue and ask \"are you tired\" on every km\n",
    "        iv.If you finish all 5 km then it should print congratulations message\n"
   ]
  },
  {
   "cell_type": "code",
   "execution_count": 81,
   "metadata": {},
   "outputs": [
    {
     "name": "stdout",
     "output_type": "stream",
     "text": [
      "are you tired 1.Yes 2.No: no\n",
      "are you tired 1.Yes 2.No: yes\n",
      "You didn't finish the race\n"
     ]
    }
   ],
   "source": [
    "flag =0\n",
    "for i in range(6):\n",
    "    if i >= 1:\n",
    "        user_resp =input(\"are you tired 1.Yes 2.No: \")\n",
    "        if user_resp.upper() == \"YES\":\n",
    "            print(\"You didn't finish the race\")\n",
    "            flag = 0\n",
    "            break\n",
    "        elif user_resp.upper() == \"NO\":\n",
    "            flag =1\n",
    "            continue\n",
    "\n",
    "if flag == 1:\n",
    "    print(\"Congrts you did it!!!\")\n",
    "        "
   ]
  },
  {
   "cell_type": "markdown",
   "metadata": {},
   "source": [
    "#### 5. Write a program that prints following shape\n",
    "    *\n",
    "    **\n",
    "    ***\n",
    "    ****\n",
    "    *****"
   ]
  },
  {
   "cell_type": "code",
   "execution_count": 83,
   "metadata": {},
   "outputs": [
    {
     "name": "stdout",
     "output_type": "stream",
     "text": [
      "\n",
      "*\n",
      "**\n",
      "***\n",
      "****\n",
      "*****\n"
     ]
    }
   ],
   "source": [
    "for i  in range(6):\n",
    "    print (\"*\"*i,end='\\n')"
   ]
  },
  {
   "cell_type": "markdown",
   "metadata": {},
   "source": [
    "# 6. Exercise: Functions in python"
   ]
  },
  {
   "cell_type": "markdown",
   "metadata": {},
   "source": [
    "#### 1. Write a function called calculate_area that takes base and height as an input and returns and area of a triangle. Equation of an area of a triangle is,\n",
    "    area = (1/2)*base*height"
   ]
  },
  {
   "cell_type": "code",
   "execution_count": 84,
   "metadata": {},
   "outputs": [
    {
     "name": "stdout",
     "output_type": "stream",
     "text": [
      "The area of the triangle is  6.0\n"
     ]
    }
   ],
   "source": [
    "def triangle_area(b,h):\n",
    "    \n",
    "    area = (1/2) * b * h\n",
    "    return area\n",
    "\n",
    "a=triangle_area(3,4)\n",
    "print(\"The area of the triangle is \",a)"
   ]
  },
  {
   "cell_type": "markdown",
   "metadata": {},
   "source": [
    "#### 2. Modify above function to take third parameter shape type. It can be either \"triangle\" or \"rectangle\". Based on shape type it will calculate area. Equation of rectangle's area is,\n",
    "    rectangle area=length*width"
   ]
  },
  {
   "cell_type": "code",
   "execution_count": 89,
   "metadata": {},
   "outputs": [
    {
     "name": "stdout",
     "output_type": "stream",
     "text": [
      "area is  6.0\n",
      "area is  12\n",
      "area is  Incorrect shape entered\n",
      "area is  6.0\n"
     ]
    }
   ],
   "source": [
    "def area(b=0,h=0,shape=\"triangle\"):\n",
    "    if shape == 'triangle':\n",
    "        area = (1/2) * b * h\n",
    "        return area\n",
    "    elif shape == 'rectangle':\n",
    "        area = b * h\n",
    "        return area\n",
    "    else:\n",
    "        return \"Incorrect shape entered\"\n",
    "\n",
    "a =area(3,4,\"triangle\")\n",
    "print(\"area is \", a)\n",
    "\n",
    "a =area(3,4,\"rectangle\")\n",
    "print(\"area is \", a)\n",
    "\n",
    "a =area(3,4,\"pentagon\")\n",
    "print(\"area is \", a)\n",
    "\n",
    "a =area(3,4)\n",
    "print(\"area is \", a)"
   ]
  },
  {
   "cell_type": "markdown",
   "metadata": {},
   "source": [
    "#### 3. Write a function called print_pattern that takes integer number as an argument and prints following pattern if input number is 3,\n",
    "    *\n",
    "    **\n",
    "    ***\n",
    "if input is 4 then it should print\n",
    "\n",
    "    *\n",
    "    **\n",
    "    ***\n",
    "    ****"
   ]
  },
  {
   "cell_type": "code",
   "execution_count": 91,
   "metadata": {},
   "outputs": [
    {
     "name": "stdout",
     "output_type": "stream",
     "text": [
      "\n",
      "*\n",
      "**\n",
      "***\n",
      "\n",
      "*\n",
      "**\n",
      "***\n",
      "****\n"
     ]
    }
   ],
   "source": [
    "def pattern(num):\n",
    "    for i in range(num + 1):\n",
    "        print(\"*\"*i, end=\"\\n\")\n",
    "\n",
    "pattern(3)\n",
    "pattern(4)"
   ]
  },
  {
   "cell_type": "markdown",
   "metadata": {},
   "source": [
    "# 7. Exercise: Python Dict and Tuples"
   ]
  },
  {
   "cell_type": "markdown",
   "metadata": {},
   "source": [
    "#### 1. We have following information on countries and their population (population is in crores),\n",
    "\n",
    "|Country||Population|\n",
    "|-------||----------|\n",
    "|China\t||143|\n",
    "|India\t||136|\n",
    "|USA\t||32 |\n",
    "|Pakistan||21|\n",
    "\n",
    "    i.Using above create a dictionary of countries and its population"
   ]
  },
  {
   "cell_type": "code",
   "execution_count": 95,
   "metadata": {},
   "outputs": [],
   "source": [
    "countries_pop = {\"china\":143,\"india\":136,\"usa\":32,\"pakistan\":21}"
   ]
  },
  {
   "cell_type": "markdown",
   "metadata": {},
   "source": [
    "#### ii. Write a program that asks user for three type of inputs,\n",
    "       a.print: if user enter print then it should print all countries with their population in this format,\n",
    "             china==>143\n",
    "             india==>136\n",
    "             usa==>32\n",
    "             pakistan==>21\n",
    "             \n",
    "        b.add: if user input add then it should further ask for a country name to add. If country already exist in our dataset then it should print that it exist and do nothing. If it doesn't then it asks for population and add that new        country/population in our dictionary and print it\n",
    "        \n",
    "        c.remove: when user inputs remove it should ask for a country to remove. If country exist in our dictionary then remove it and print new dictionary using format shown above in (a). Else print that country doesn't exist!\n",
    "        \n",
    "        d.query: on this again ask user for which country he or she wants to query. When user inputs that country it will print population of that country."
   ]
  },
  {
   "cell_type": "code",
   "execution_count": 103,
   "metadata": {},
   "outputs": [
    {
     "name": "stdout",
     "output_type": "stream",
     "text": [
      "Enter one of the following option 1.PRINT 2.ADD 3.REMOVE 4.QUERY: query\n",
      "Enter the country to be queriedindia\n",
      "The population of the country india is 136\n"
     ]
    }
   ],
   "source": [
    "user_input = input(\"Enter one of the following option 1.PRINT 2.ADD 3.REMOVE 4.QUERY: \")\n",
    "\n",
    "if user_input.upper() == \"PRINT\":\n",
    "    for key in countries_pop:\n",
    "        print(key, \"==>\", countries_pop[key])\n",
    "elif user_input.upper() == \"ADD\":\n",
    "    country_add = input(\"Enter the country to be added: \")\n",
    "    if country_add.lower() in countries_pop:\n",
    "        print(\"The country already exist in the database\")\n",
    "    else:\n",
    "        population_add = int(input(\"Enter the population of the country: \"))\n",
    "        countries_pop[country_add.lower()] = population_add\n",
    "\n",
    "    for key in countries_pop:\n",
    "        print(key, \"==>\", countries_pop[key])\n",
    "\n",
    "elif user_input.upper() == \"REMOVE\":\n",
    "    country_remove = input(\"Enter the country to be removed: \")\n",
    "    if country_remove.lower() in countries_pop:\n",
    "        countries_pop.pop(country_remove.lower())\n",
    "        for key in countries_pop:\n",
    "            print(key, \"==>\", countries_pop[key])\n",
    "    else:\n",
    "        print(\"The country doesn't exist in database: \")\n",
    "elif user_input.upper() == \"QUERY\":\n",
    "    country_query = input(\"Enter the country to be queried\")\n",
    "    if country_query.lower() in countries_pop:\n",
    "        print(\"The population of the country {} is {} \".format(country_query.lower(),countries_pop[country_query.lower()]))      "
   ]
  },
  {
   "cell_type": "markdown",
   "metadata": {},
   "source": [
    "#### ou are given following list of stocks and their prices in last 3 days,\n",
    "\n",
    "|Stock||Prices|\n",
    "|-----||------|\n",
    "|info ||[600,630,620]|\n",
    "|ril  ||[1430,1490,1567]|\n",
    "|mtl  ||[234,180,160]|"
   ]
  },
  {
   "cell_type": "markdown",
   "metadata": {},
   "source": [
    "#### i. Write a program that asks user for operation. Value of operations could be,\n",
    "    a. print: When user enters print it should print following,\n",
    "        info ==> [600, 630, 620] ==> avg:  616.67\n",
    "        ril ==> [1430, 1490, 1567] ==> avg:  1495.67\n",
    "        mtl ==> [234, 180, 160] ==> avg:  191.33\n",
    "    b. add: When user enters 'add', it asks for stock ticker and price. If stock already exist in your list (like info, ril etc) then it will append the price to the list. Otherwise it will create new entry in your dictionary. For example entering 'tata' and 560 will add tata ==> [560] to the dictionary of stocks."
   ]
  },
  {
   "cell_type": "code",
   "execution_count": 117,
   "metadata": {},
   "outputs": [],
   "source": [
    "stock_price ={\"info\":[600, 630, 620],\"ril\":[1430, 1490, 1567],\"mtl\":[234, 180, 160]}"
   ]
  },
  {
   "cell_type": "code",
   "execution_count": 121,
   "metadata": {},
   "outputs": [
    {
     "name": "stdout",
     "output_type": "stream",
     "text": [
      "Enter one of the following option 1.PRINT 2.ADD: print\n",
      "info ==> [600, 630, 620] ==> 616.67\n",
      "ril ==> [1430, 1490, 1567] ==> 1495.67\n",
      "mtl ==> [234, 180, 160] ==> 191.33\n",
      "tata ==> [560, 240] ==> 400.0\n"
     ]
    }
   ],
   "source": [
    "user_input = input(\"Enter one of the following option 1.PRINT 2.ADD: \")\n",
    "\n",
    "if user_input.upper() == \"PRINT\":\n",
    "    for key in stock_price:\n",
    "        print(key,\"==>\",stock_price[key],\"==>\",round(sum(stock_price[key])/len(stock_price[key]),2))\n",
    "elif user_input.upper() == \"ADD\":\n",
    "    ticker = input(\"Enter the ticker name: \")\n",
    "    price =int(input(\"Enter the price of the ticker: \"))\n",
    "    if ticker in stock_price:\n",
    "        stock_price[ticker].append(price)\n",
    "    else:\n",
    "        stock_price[ticker] = [price]"
   ]
  },
  {
   "cell_type": "markdown",
   "metadata": {},
   "source": [
    " #### 3. Write circle_calc() function that takes radius of a circle as an input from user and then it calculates and returns area, circumference and diameter. You should get these values in your main program by calling circle_calc function and then print them"
   ]
  },
  {
   "cell_type": "code",
   "execution_count": 124,
   "metadata": {},
   "outputs": [
    {
     "name": "stdout",
     "output_type": "stream",
     "text": [
      "area of circle is 50.27, circumference is 25.13, diameter is 16\n"
     ]
    }
   ],
   "source": [
    "from math import pi\n",
    "\n",
    "def circle(r):\n",
    "    \n",
    "    return pi*r**2, 2**r, 2*pi*r\n",
    "\n",
    "value = circle(4)\n",
    "\n",
    "print(\"area of circle is {}, circumference is {}, diameter is {}\".format(round(value[0],2),round(value[2],2),round(value[1],2)))"
   ]
  },
  {
   "cell_type": "markdown",
   "metadata": {},
   "source": [
    "# 8.Exercise: Python Read Write File"
   ]
  },
  {
   "cell_type": "markdown",
   "metadata": {},
   "source": [
    "#### 1. poem.txt contains famous poem \"Road not taken\" by poet Robert Frost. You have to read this file in your python program and find out words with maximum occurance."
   ]
  },
  {
   "cell_type": "code",
   "execution_count": 3,
   "metadata": {},
   "outputs": [
    {
     "name": "stdout",
     "output_type": "stream",
     "text": [
      "The word having max count is:  I 8\n",
      "The word having max count is:  the 8\n"
     ]
    }
   ],
   "source": [
    "import re\n",
    "\n",
    "dict1 = {}\n",
    "# with open(\"D:\\\\01 Documents\\\\04 Pycharm\\\\01 Code Basics\\\\Files\\\\poem.txt\", \"r\") as f:\n",
    "f = open(\"D:\\\\01 Documents\\\\04 Pycharm\\\\01 Code Basics\\\\Files\\\\poem.txt\", \"r\")\n",
    "\n",
    "for lines in f:\n",
    "    list1 = re.split('[\\s,!-.\":;]', lines)\n",
    "    for words in list1:\n",
    "        if words in dict1:\n",
    "            count = dict1[words]\n",
    "            count += 1\n",
    "            dict1[words] = count\n",
    "        else:\n",
    "            count = 0\n",
    "            count += 1\n",
    "            dict1[words] = count\n",
    "f.close()\n",
    "#print(dict1)\n",
    "\n",
    "max_count = 0\n",
    "max_list = list(dict1.values())\n",
    "max_list.remove(42) # to remove '' count from the list\n",
    "max_value = max(max_list)\n",
    "\n",
    "for word, count in dict1.items():\n",
    "    if count == max_value:\n",
    "        print(\"The word having max count is: \",word, count)\n"
   ]
  },
  {
   "cell_type": "markdown",
   "metadata": {},
   "source": [
    "#### 2. stocks.csv contains stock price, earnings per share and book value. You are writing a stock market application that will process this file and create a new file with financial metrics such as pe ratio and price to book ratio. These are calculated as,\n",
    "\n",
    "    pe ratio = price / earnings per share\n",
    "    price to book ratio = price / book value\n",
    "\n",
    "input stock format is :-\n",
    "\n",
    "|Company Name||Price||Earnings Per Share||Book Value|\n",
    "|------------||-----||------------------||----------|\n",
    "|Reliance\t ||1467 ||66||653|\n",
    "|Tata Steel||391||89||572|\n",
    "\n",
    "output stock should look like \n",
    "\n",
    "|Company Name||PE Ratio||PB Ratio|\n",
    "|------------||--------||--------|\n",
    "|Reliance    ||22.23   ||2.25|\n",
    "|Tata Steel  ||4.39    ||0.68|"
   ]
  },
  {
   "cell_type": "code",
   "execution_count": 5,
   "metadata": {},
   "outputs": [],
   "source": [
    "with open(\"D:\\\\01 Documents\\\\04 Pycharm\\\\01 Code Basics\\\\Files\\\\stocks.csv\", \"r\") as f, open(\"D:\\\\01 Documents\\\\04 Pycharm\\\\01 Code Basics\\\\Files\\\\out.csv\", \"w\") as out:\n",
    "    out.write(\"Company Name,PE Ratio, PB Ratio\\n\")\n",
    "    next(f)  # This will skip first line in the file which is a header\n",
    "    for line in f:\n",
    "        tokens = line.split(\",\")\n",
    "        stock = tokens[0]\n",
    "        price = float(tokens[1])\n",
    "        eps = float(tokens[2])\n",
    "        book = float(tokens[3])\n",
    "        pe = round(price / eps, 2)\n",
    "        pb = round(price / book, 2)\n",
    "        out.write(f\"{stock},{pe},{pb}\\n\")"
   ]
  },
  {
   "cell_type": "markdown",
   "metadata": {},
   "source": [
    "# 9. Exercise: Class and Objects"
   ]
  },
  {
   "cell_type": "markdown",
   "metadata": {},
   "source": [
    "#### 1. Create a sample class named Employee with two attributes id and name\n",
    "    employee :\n",
    "        id\n",
    "        name\n",
    "object initializes id and name dynamically for every Employee object created.\n",
    "\n",
    "    emp = Employee(1, \"coder\")"
   ]
  },
  {
   "cell_type": "code",
   "execution_count": 12,
   "metadata": {},
   "outputs": [
    {
     "name": "stdout",
     "output_type": "stream",
     "text": [
      "name is sarthak and id is 1\n"
     ]
    }
   ],
   "source": [
    "class Employee:\n",
    "    def __init__(self,empid,name):\n",
    "        self.empid = empid\n",
    "        self.name = name\n",
    "    \n",
    "    def display(self):\n",
    "        print(\"name is {} and id is {}\".format(self.name,self.empid))\n",
    "\n",
    "emp1 = Employee(1,\"sarthak\")\n",
    "emp1.display()"
   ]
  },
  {
   "cell_type": "markdown",
   "metadata": {},
   "source": [
    "#### 2. Use del property to first delete id attribute and then the entire object"
   ]
  },
  {
   "cell_type": "code",
   "execution_count": 13,
   "metadata": {},
   "outputs": [
    {
     "name": "stdout",
     "output_type": "stream",
     "text": [
      "emp is not defined\n"
     ]
    }
   ],
   "source": [
    "try:\n",
    "    del emp1.empid\n",
    "except NameError as e:\n",
    "    print(\"empid is not defined\")\n",
    "\n",
    "del emp1\n",
    "\n",
    "try:\n",
    "    del emp1.display\n",
    "except NameError as e:\n",
    "    print (\"emp is not defined\")"
   ]
  },
  {
   "cell_type": "markdown",
   "metadata": {},
   "source": [
    "# 9. Exercise: Inheritance"
   ]
  },
  {
   "cell_type": "markdown",
   "metadata": {},
   "source": [
    "#### 1. create inheritance using animal Dog relation.\n",
    "    for example, \n",
    "        Animal and Dog both has same habitat so create a method for habitat \n",
    "#### 2.use super() constructor for calling parent constructor.\n",
    "    class Animal:\n",
    "        #code\n",
    "\n",
    "    class Dog(Animal):\n",
    "        super()-it refers Animal class,now you can call Animal's methods."
   ]
  },
  {
   "cell_type": "code",
   "execution_count": 14,
   "metadata": {},
   "outputs": [
    {
     "name": "stdout",
     "output_type": "stream",
     "text": [
      "Kennel\n",
      "Woof woof!\n"
     ]
    }
   ],
   "source": [
    "class Animal:\n",
    "    def __init__(self, habitat):\n",
    "        self.habitat = habitat\n",
    "\n",
    "    def print_habitat(self):\n",
    "        print(self.habitat)\n",
    "\n",
    "    def sound(self):\n",
    "        print(\"Some Animal Sound\")\n",
    "\n",
    "\n",
    "class Dog(Animal):\n",
    "    def __init__(self):\n",
    "        super().__init__(\"Kennel\")\n",
    "\n",
    "    def sound(self):\n",
    "        print(\"Woof woof!\")\n",
    "\n",
    "\n",
    "x = Dog()\n",
    "x.print_habitat()\n",
    "x.sound()"
   ]
  },
  {
   "cell_type": "code",
   "execution_count": 17,
   "metadata": {
    "scrolled": true
   },
   "outputs": [],
   "source": [
    "class AdultException(Exception):\n",
    "    pass"
   ]
  },
  {
   "cell_type": "code",
   "execution_count": 18,
   "metadata": {},
   "outputs": [],
   "source": [
    "class Person:\n",
    "    \n",
    "    def __init__(self, name, age):\n",
    "        self.age = age\n",
    "        self.name = name\n",
    "    \n",
    "    def get_minor_age(self):\n",
    "        \n",
    "        if self.age < 18:\n",
    "            print(\"Minor and age is: \", self.age)\n",
    "        else:\n",
    "            raise AdultException\n",
    "       \n",
    "    def display_person(self):\n",
    "        \n",
    "        try:\n",
    "            self.get_minor_age()\n",
    "        except AdultException as e:\n",
    "            print(\" The person is adult\", e)\n",
    "        finally:\n",
    "            print (\"name is, \", self.name)"
   ]
  },
  {
   "cell_type": "code",
   "execution_count": 19,
   "metadata": {},
   "outputs": [],
   "source": [
    "per = Person(\"John\", 21)"
   ]
  },
  {
   "cell_type": "code",
   "execution_count": 20,
   "metadata": {},
   "outputs": [
    {
     "name": "stdout",
     "output_type": "stream",
     "text": [
      " The person is adult \n",
      "name is,  John\n"
     ]
    }
   ],
   "source": [
    "per.display_person()"
   ]
  },
  {
   "cell_type": "code",
   "execution_count": 21,
   "metadata": {},
   "outputs": [],
   "source": [
    "per = Person(\"John\", 17)"
   ]
  },
  {
   "cell_type": "code",
   "execution_count": null,
   "metadata": {},
   "outputs": [],
   "source": []
  }
 ],
 "metadata": {
  "kernelspec": {
   "display_name": "Python 3",
   "language": "python",
   "name": "python3"
  },
  "language_info": {
   "codemirror_mode": {
    "name": "ipython",
    "version": 3
   },
   "file_extension": ".py",
   "mimetype": "text/x-python",
   "name": "python",
   "nbconvert_exporter": "python",
   "pygments_lexer": "ipython3",
   "version": "3.8.3"
  }
 },
 "nbformat": 4,
 "nbformat_minor": 4
}
