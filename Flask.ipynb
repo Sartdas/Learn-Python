{
 "cells": [
  {
   "cell_type": "markdown",
   "metadata": {},
   "source": [
    "# FLASK"
   ]
  },
  {
   "cell_type": "markdown",
   "metadata": {},
   "source": [
    "#### Flask commands in cmd"
   ]
  },
  {
   "cell_type": "markdown",
   "metadata": {},
   "source": [
    "1. Check whether Flask is installed in the enironment. if not installed then install using the below command-\n",
    "   \n",
    "   \n",
    "   \n",
    "    pip install flask\n",
    "    \n",
    "    \n",
    "\n",
    "2. once installed check in python by importing python\n",
    "3. Now to execute flask in cmd first allocate the python file to a variable in command prompt using the below command-\n",
    "\n",
    "\n",
    "\n",
    "    set variable_name=python_flask_file.py\n",
    "\n",
    "\n",
    "\n",
    "4. execute it using the below command\n",
    "    \n",
    "\n",
    "\n",
    "    flask run\n",
    "    \n",
    "    \n",
    "\n",
    "5. after executing the above command you should see that the something below-\n",
    "\n",
    "    \n",
    "    \n",
    "    \n",
    "    \n",
    "    Serving Flask app \"Flaskblog.py\"\n",
    "    Environment: production\n",
    "    WARNING: This is a development server. Do not use it in a production deployment.\n",
    "    Use a production WSGI server instead.\n",
    "    Debug mode: off\n",
    "    Running on http://127.0.0.1:5000/ (Press CTRL+C to quit)\n",
    "    \n",
    "\n",
    "6. chanage the ip address from http://127.0.0.1:5000/  to   localhost:5000/ \n",
    "\n",
    "\n",
    "7. to run the flask application in debug mode do the below:\n",
    "\n",
    "\n",
    "\n",
    "    set FLASK_DEBUG=1\n",
    "    \n",
    "   and then run the flask application using \n",
    "    \n",
    "    flask run"
   ]
  },
  {
   "cell_type": "markdown",
   "metadata": {},
   "source": [
    "a Flask  application file can directly run by setting the below in the python app program\n",
    "    \n",
    "    \n",
    "    if __name__ == '__main__':\n",
    " \tapp.run(debug=True)\n",
    "    \n",
    "\n",
    "and calling in the cmd by using the below command\n",
    "\n",
    "    \n",
    "       python python_flask_file.py"
   ]
  },
  {
   "cell_type": "markdown",
   "metadata": {},
   "source": [
    "Importing a secret key in python is done in the module secrets\n",
    "\n",
    "    >>> import secrets\n",
    "    >>> secrets.token_hex(16)\n",
    "    517e341b6b5e8b811ffbcaa9e966c540\n",
    "and the key can be used in the application as below\n",
    "\n",
    "    app.config['SECRET_KEY'] = '517e341b6b5e8b811ffbcaa9e966c540'\n",
    "\n"
   ]
  },
  {
   "cell_type": "code",
   "execution_count": null,
   "metadata": {},
   "outputs": [],
   "source": []
  },
  {
   "cell_type": "code",
   "execution_count": null,
   "metadata": {},
   "outputs": [],
   "source": []
  },
  {
   "cell_type": "code",
   "execution_count": null,
   "metadata": {},
   "outputs": [],
   "source": []
  }
 ],
 "metadata": {
  "kernelspec": {
   "display_name": "Python 3",
   "language": "python",
   "name": "python3"
  },
  "language_info": {
   "codemirror_mode": {
    "name": "ipython",
    "version": 3
   },
   "file_extension": ".py",
   "mimetype": "text/x-python",
   "name": "python",
   "nbconvert_exporter": "python",
   "pygments_lexer": "ipython3",
   "version": "3.8.3"
  }
 },
 "nbformat": 4,
 "nbformat_minor": 4
}
